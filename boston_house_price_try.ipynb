{
  "nbformat": 4,
  "nbformat_minor": 0,
  "metadata": {
    "colab": {
      "name": "boston_house_price.ipynb",
      "provenance": []
    },
    "kernelspec": {
      "name": "python3",
      "display_name": "Python 3"
    }
  },
  "cells": [
    {
      "cell_type": "markdown",
      "metadata": {
        "id": "ruEqbUOJD8NB"
      },
      "source": [
        "# Linear Regression"
      ]
    },
    {
      "cell_type": "code",
      "metadata": {
        "id": "TEEVRwaypVrb"
      },
      "source": [
        "import numpy as np\n",
        "import pandas as pd\n",
        "from sklearn import datasets\n",
        "from sklearn import model_selection\n",
        "from sklearn.linear_model import LinearRegression # 주어진 관측치에 대해 Linear regression을 이용해 예측\n",
        "from sklearn import metrics\n",
        "from sklearn import datasets\n",
        "# shape = 행과 열의 갯수를 튜플 형태로 변환시킨다."
      ],
      "execution_count": 14,
      "outputs": []
    },
    {
      "cell_type": "code",
      "metadata": {
        "id": "bWq8_WKWpaqx",
        "colab": {
          "base_uri": "https://localhost:8080/"
        },
        "outputId": "de0b4697-0cb3-4205-b718-59cdae8de95e"
      },
      "source": [
        "dataset = datasets.load_boston() #데이터 불러왔고, 근데 데이터는 어디에있어? 어디서 가져오는거야?\n",
        "x_data = dataset.data   #데이터 set은 xdata\n",
        "y_data = dataset.target # target data는 label data이며  class데이터이다.\n",
        "print(x_data.shape) #(506, 13) \n",
        "print(y_data.shape) #(506,)"
      ],
      "execution_count": 2,
      "outputs": [
        {
          "output_type": "stream",
          "text": [
            "(506, 13)\n",
            "(506,)\n"
          ],
          "name": "stdout"
        }
      ]
    },
    {
      "cell_type": "code",
      "metadata": {
        "id": "MP_3cmR3D0pU",
        "colab": {
          "base_uri": "https://localhost:8080/"
        },
        "outputId": "ab7d4592-fa86-4526-e814-53552e1ede00"
      },
      "source": [
        "\n",
        "\n",
        "\n",
        "####################\n",
        "\n",
        "x_train, x_test, y_train, y_test = model_selection.train_test_split(x_data, y_data, test_size=0.3)\n",
        "# 기존데이터 7 테스트 데이터 3 비율로 4가지의 데이터를 나눴다.\n",
        "\n",
        "estimator = LinearRegression() # 주어진 관측치에 대해 예측하기위함.\n",
        "\n",
        "estimator.fit(x_train, y_train) # estimator를 사용하려면 두개의 ㅍ라미터가 생성 되어야 하는데?... x,y train 선언\n",
        "\n",
        "y_predict = estimator.predict(x_train)  # x train 의 값을 주어진 관측지에 넣어 예측하다?\n",
        "score = metrics.r2_score(y_train, y_predict) #점수 는 y train, ypredict ?\n",
        "print(score) #1.0\n",
        "\n",
        "y_predict = estimator.predict(x_test) \n",
        "score = metrics.r2_score(y_test, y_predict)\n",
        "print(score) #1.0"
      ],
      "execution_count": 3,
      "outputs": [
        {
          "output_type": "stream",
          "text": [
            "0.7546649617720446\n",
            "0.6782698749413343\n"
          ],
          "name": "stdout"
        }
      ]
    },
    {
      "cell_type": "code",
      "metadata": {
        "id": "dIxS_TCBEDqv",
        "colab": {
          "base_uri": "https://localhost:8080/"
        },
        "outputId": "8d00edaf-3422-44c5-b099-2266a2b10441"
      },
      "source": [
        "import numpy as np\n",
        "import pandas as pd\n",
        "from sklearn import datasets\n",
        "from sklearn import model_selection\n",
        "from sklearn.neighbors import KNeighborsRegressor\n",
        "from sklearn.model_selection import GridSearchCV\n",
        "from sklearn import metrics\n",
        "from sklearn import datasets\n",
        "dataset = datasets.load_boston()\n",
        "x_data = dataset.data\n",
        "y_data = dataset.target\n",
        "#print(x_data.shape) #(506, 13)\n",
        "#print(y_data.shape) #(506,)\n",
        "\n",
        "####################\n",
        "\n",
        "x_train, x_test, y_train, y_test = model_selection.train_test_split(x_data, y_data, test_size=0.3)\n",
        "\n",
        "estimator = KNeighborsRegressor(n_neighbors=5, metric='minkowski', weights='uniform')\n",
        "# kneifgborsRegressor 은 주어진 데이터 셋에서 가장 가까운 포인트 / 최 근접 이웃을 찾는 함수.\n",
        "\n",
        "estimator.fit(x_train, y_train)\n",
        "\n",
        "y_predict = estimator.predict(x_train) \n",
        "score = metrics.r2_score(y_train, y_predict)\n",
        "print(score) #1.0\n",
        "\n",
        "y_predict = estimator.predict(x_test) \n",
        "score = metrics.r2_score(y_test, y_predict)\n",
        "print(score) #1.0"
      ],
      "execution_count": 4,
      "outputs": [
        {
          "output_type": "stream",
          "text": [
            "0.693133790321379\n",
            "0.4289666493462855\n"
          ],
          "name": "stdout"
        }
      ]
    },
    {
      "cell_type": "code",
      "metadata": {
        "id": "Df9PbRzlEI4v",
        "colab": {
          "base_uri": "https://localhost:8080/",
          "height": 335
        },
        "outputId": "d07a8fae-d6c7-4f71-bfa9-e36410ff3e3a"
      },
      "source": [
        "import numpy as np\n",
        "import pandas as pd\n",
        "from sklearn import datasets\n",
        "from sklearn import model_selection\n",
        "from sklearn.neighbors import KNeighborsRegressor\n",
        "from sklearn.model_selection import GridSearchCV\n",
        "from sklearn import metrics\n",
        "from sklearn import datasets\n",
        "dataset = datasets.load_boston()\n",
        "x_data = dataset.data\n",
        "y_data = dataset.target\n",
        "#print(x_data.shape) #(506, 13)\n",
        "#print(y_data.shape) #(506,)\n",
        "\n",
        "####################\n",
        "\n",
        "x_train, x_test, y_train, y_test = model_selection.train_test_split(x_data, y_data, test_size=0.3)\n",
        "x_train, x_test, y_train, y_test = x_data, x_data, y_data, y_data\n",
        "\n",
        "estimator = KNeighborsRegressor()\n",
        "\n",
        "#'''\n",
        "param_grid = {'n_neighbors':[3]}\n",
        "\n",
        "grid = GridSearchCV(estimator, param_grid=param_grid) \n",
        "#grid = GridSearchCV(estimator, param_grid=param_grid, cv=3, scoring='r2') #디폴트로 cv=3, 회귀에서 디폴트로 scoring='r2'\n",
        "\n",
        "grid.fit(x_train, y_train)\n",
        "\n",
        "print(pd.DataFrame(grid.cv_results_).sort_values(by='param_n_neighbors'))\n",
        "#print(pd.DataFrame(grid.cv_results_).sort_values(by='param_n_neighbors', ascending=0))\n",
        "print(grid.best_score_)\n",
        "print(grid.best_params_)\n",
        "#'''\n",
        "'''\n",
        "param_grid = {'n_neighbors':[5,1,2,3,4], 'metric':['minkowski','manhattan','euclidean'], 'weights':['uniform','distance']}\n",
        "\n",
        "grid = GridSearchCV(estimator, param_grid=param_grid) \n",
        "\n",
        "grid.fit(x_train, y_train)\n",
        "\n",
        "print(pd.DataFrame(grid.cv_results_).sort_values(by='rank_test_score'))\n",
        "print(grid.best_score_)\n",
        "print(grid.best_params_)\n",
        "'''\n",
        "\n",
        "####################\n",
        "\n",
        "#'''\n",
        "estimator = grid.best_estimator_\n",
        "#'''\n",
        "'''\n",
        "#estimator = KNeighborsRegressor(**grid.best_params_)\n",
        "estimator = KNeighborsRegressor()\n",
        "estimator.set_params(**grid.best_params_)\n",
        "\n",
        "estimator.fit(x_train, y_train)\n",
        "'''\n",
        "\n",
        "y_predict = estimator.predict(x_test) \n",
        "score = metrics.r2_score(y_test, y_predict)\n",
        "#score = estimator.score(x_test, y_test)\n",
        "#score = grid.score(x_test, y_test)\n",
        "print(score) #1.0\n",
        "\n",
        "print(x_test[:2])\n",
        "'''\n",
        "[[0.31062919 0.76910373]\n",
        " [0.41938502 0.65613916]]\n",
        "'''\n",
        "y_predict = estimator.predict(x_test[:2])\n",
        "print(y_predict) #[1.00350829 1.00350829]\n",
        "for y1, y2 in zip(y_test, y_predict):\n",
        "    print(y1, y2)\n",
        "'''\n",
        "1.079732927822041 1.0035082883285351\n",
        "1.0755241796602246 1.0035082883285351\n",
        "'''"
      ],
      "execution_count": 5,
      "outputs": [
        {
          "output_type": "stream",
          "text": [
            "   mean_fit_time  std_fit_time  ...  std_test_score  rank_test_score\n",
            "0        0.00074      0.000163  ...        0.521293                1\n",
            "\n",
            "[1 rows x 14 columns]\n",
            "-0.3805458677224257\n",
            "{'n_neighbors': 3}\n",
            "0.7868514704495158\n",
            "[[6.3200e-03 1.8000e+01 2.3100e+00 0.0000e+00 5.3800e-01 6.5750e+00\n",
            "  6.5200e+01 4.0900e+00 1.0000e+00 2.9600e+02 1.5300e+01 3.9690e+02\n",
            "  4.9800e+00]\n",
            " [2.7310e-02 0.0000e+00 7.0700e+00 0.0000e+00 4.6900e-01 6.4210e+00\n",
            "  7.8900e+01 4.9671e+00 2.0000e+00 2.4200e+02 1.7800e+01 3.9690e+02\n",
            "  9.1400e+00]]\n",
            "[22.1 24.3]\n",
            "24.0 22.099999999999998\n",
            "21.6 24.3\n"
          ],
          "name": "stdout"
        },
        {
          "output_type": "execute_result",
          "data": {
            "application/vnd.google.colaboratory.intrinsic+json": {
              "type": "string"
            },
            "text/plain": [
              "'\\n1.079732927822041 1.0035082883285351\\n1.0755241796602246 1.0035082883285351\\n'"
            ]
          },
          "metadata": {
            "tags": []
          },
          "execution_count": 5
        }
      ]
    },
    {
      "cell_type": "code",
      "metadata": {
        "id": "xvrorioiETlr",
        "colab": {
          "base_uri": "https://localhost:8080/"
        },
        "outputId": "49584f36-0fc7-4ada-e505-3b7a99d278a7"
      },
      "source": [
        "import numpy as np\n",
        "import pandas as pd\n",
        "from sklearn import datasets\n",
        "from sklearn import model_selection\n",
        "from sklearn.linear_model import Lasso\n",
        "from sklearn import metrics\n",
        "from sklearn import datasets\n",
        "dataset = datasets.load_boston()\n",
        "x_data = dataset.data\n",
        "y_data = dataset.target\n",
        "#print(x_data.shape) #(506, 13)\n",
        "#print(y_data.shape) #(506,)\n",
        "\n",
        "####################\n",
        "\n",
        "x_train, x_test, y_train, y_test = model_selection.train_test_split(x_data, y_data, test_size=0.3)\n",
        "\n",
        "estimator = Lasso(alpha=1.0)\n",
        "\n",
        "estimator.fit(x_train, y_train)\n",
        "\n",
        "y_predict = estimator.predict(x_train) \n",
        "score = metrics.r2_score(y_train, y_predict)\n",
        "print(score) #1.0\n",
        "\n",
        "y_predict = estimator.predict(x_test) \n",
        "score = metrics.r2_score(y_test, y_predict)\n",
        "print(score) #1.0"
      ],
      "execution_count": 6,
      "outputs": [
        {
          "output_type": "stream",
          "text": [
            "0.6746040084547068\n",
            "0.6965579772899831\n"
          ],
          "name": "stdout"
        }
      ]
    },
    {
      "cell_type": "code",
      "metadata": {
        "id": "TlNX4MqMy7WY"
      },
      "source": [
        "import numpy as np\n",
        "import pandas as pd\n",
        "from sklearn import datasets\n",
        "from sklearn import model_selection\n",
        "from sklearn.neighbors import KNeighborsRegressor\n",
        "from sklearn.model_selection import GridSearchCV\n",
        "from sklearn import metrics\n",
        "from sklearn import datasets\n",
        "dataset = datasets.load_boston()\n",
        "x_data = dataset.data\n",
        "y_data = dataset.target\n",
        "#print(x_data.shape) #(506, 13)\n",
        "#print(y_data.shape) #(506,)\n",
        "#df=pd.DataFrame(dataset.data, columns=dataset.feature_names)\n",
        "df=pd.DataFrame(dataset.target)"
      ],
      "execution_count": 7,
      "outputs": []
    },
    {
      "cell_type": "code",
      "metadata": {
        "id": "6whi39ac0MHH",
        "colab": {
          "base_uri": "https://localhost:8080/",
          "height": 415
        },
        "outputId": "a848199f-8738-4b03-f5e7-504ae26139e8"
      },
      "source": [
        "df"
      ],
      "execution_count": 8,
      "outputs": [
        {
          "output_type": "execute_result",
          "data": {
            "text/html": [
              "<div>\n",
              "<style scoped>\n",
              "    .dataframe tbody tr th:only-of-type {\n",
              "        vertical-align: middle;\n",
              "    }\n",
              "\n",
              "    .dataframe tbody tr th {\n",
              "        vertical-align: top;\n",
              "    }\n",
              "\n",
              "    .dataframe thead th {\n",
              "        text-align: right;\n",
              "    }\n",
              "</style>\n",
              "<table border=\"1\" class=\"dataframe\">\n",
              "  <thead>\n",
              "    <tr style=\"text-align: right;\">\n",
              "      <th></th>\n",
              "      <th>0</th>\n",
              "    </tr>\n",
              "  </thead>\n",
              "  <tbody>\n",
              "    <tr>\n",
              "      <th>0</th>\n",
              "      <td>24.0</td>\n",
              "    </tr>\n",
              "    <tr>\n",
              "      <th>1</th>\n",
              "      <td>21.6</td>\n",
              "    </tr>\n",
              "    <tr>\n",
              "      <th>2</th>\n",
              "      <td>34.7</td>\n",
              "    </tr>\n",
              "    <tr>\n",
              "      <th>3</th>\n",
              "      <td>33.4</td>\n",
              "    </tr>\n",
              "    <tr>\n",
              "      <th>4</th>\n",
              "      <td>36.2</td>\n",
              "    </tr>\n",
              "    <tr>\n",
              "      <th>...</th>\n",
              "      <td>...</td>\n",
              "    </tr>\n",
              "    <tr>\n",
              "      <th>501</th>\n",
              "      <td>22.4</td>\n",
              "    </tr>\n",
              "    <tr>\n",
              "      <th>502</th>\n",
              "      <td>20.6</td>\n",
              "    </tr>\n",
              "    <tr>\n",
              "      <th>503</th>\n",
              "      <td>23.9</td>\n",
              "    </tr>\n",
              "    <tr>\n",
              "      <th>504</th>\n",
              "      <td>22.0</td>\n",
              "    </tr>\n",
              "    <tr>\n",
              "      <th>505</th>\n",
              "      <td>11.9</td>\n",
              "    </tr>\n",
              "  </tbody>\n",
              "</table>\n",
              "<p>506 rows × 1 columns</p>\n",
              "</div>"
            ],
            "text/plain": [
              "        0\n",
              "0    24.0\n",
              "1    21.6\n",
              "2    34.7\n",
              "3    33.4\n",
              "4    36.2\n",
              "..    ...\n",
              "501  22.4\n",
              "502  20.6\n",
              "503  23.9\n",
              "504  22.0\n",
              "505  11.9\n",
              "\n",
              "[506 rows x 1 columns]"
            ]
          },
          "metadata": {
            "tags": []
          },
          "execution_count": 8
        }
      ]
    },
    {
      "cell_type": "code",
      "metadata": {
        "id": "HiWAFDgO0tN_"
      },
      "source": [
        "x_train, x_test, y_train, y_test = model_selection.train_test_split(x_data, y_data, test_size=0.3)"
      ],
      "execution_count": 9,
      "outputs": []
    },
    {
      "cell_type": "code",
      "metadata": {
        "id": "98i-Rptr0vfQ",
        "colab": {
          "base_uri": "https://localhost:8080/"
        },
        "outputId": "3ebdfa5d-e62b-443d-829a-6f667a5264ca"
      },
      "source": [
        "print(x_train.shape)\n",
        "print(y_train.shape)\n",
        "print(x_test.shape)\n",
        "print(y_test.shape)"
      ],
      "execution_count": 10,
      "outputs": [
        {
          "output_type": "stream",
          "text": [
            "(354, 13)\n",
            "(354,)\n",
            "(152, 13)\n",
            "(152,)\n"
          ],
          "name": "stdout"
        }
      ]
    },
    {
      "cell_type": "code",
      "metadata": {
        "id": "UgfuLlahEbhZ",
        "colab": {
          "base_uri": "https://localhost:8080/"
        },
        "outputId": "d86c49fe-bdcd-4e3e-f7d6-b28349ee6f5d"
      },
      "source": [
        "estimator = KNeighborsRegressor(n_neighbors=5, metric='minkowski', weights='uniform')\n",
        "\n",
        "estimator.fit(x_train, y_train)\n",
        "\n",
        "y_predict = estimator.predict(x_train) \n",
        "score = metrics.r2_score(y_train, y_predict)\n",
        "print(score) #1.0\n",
        "\n",
        "y_predict = estimator.predict(x_test) \n",
        "score = metrics.r2_score(y_test, y_predict)\n",
        "print(score) #1.0"
      ],
      "execution_count": 11,
      "outputs": [
        {
          "output_type": "stream",
          "text": [
            "0.6742501987247995\n",
            "0.6025099530570968\n"
          ],
          "name": "stdout"
        }
      ]
    },
    {
      "cell_type": "code",
      "metadata": {
        "id": "36z0oBdMrvji",
        "colab": {
          "base_uri": "https://localhost:8080/",
          "height": 335
        },
        "outputId": "fdfdc75a-0f4a-42ea-acfd-869a703b786a"
      },
      "source": [
        "import numpy as np\n",
        "import pandas as pd\n",
        "from sklearn import datasets\n",
        "#\n",
        "from sklearn import model_selection\n",
        "from sklearn.neighbors import KNeighborsRegressor\n",
        "from sklearn.model_selection import GridSearchCV\n",
        "from sklearn import metrics\n",
        "\n",
        "from sklearn import datasets\n",
        "dataset = datasets.load_boston()\n",
        "x_data = dataset.data\n",
        "y_data = dataset.target\n",
        "#print(x_data.shape) #(506, 13)\n",
        "#print(y_data.shape) #(506,)\n",
        "\n",
        "####################\n",
        "\n",
        "x_train, x_test, y_train, y_test = model_selection.train_test_split(x_data, y_data, test_size=0.3)\n",
        "x_train, x_test, y_train, y_test = x_data, x_data, y_data, y_data\n",
        "\n",
        "estimator = KNeighborsRegressor()\n",
        "\n",
        "#'''\n",
        "param_grid = {'n_neighbors':[3]}\n",
        "\n",
        "grid = GridSearchCV(estimator, param_grid=param_grid) \n",
        "#grid = GridSearchCV(estimator, param_grid=param_grid, cv=3, scoring='r2') #디폴트로 cv=3, 회귀에서 디폴트로 scoring='r2'\n",
        "\n",
        "grid.fit(x_train, y_train)\n",
        "\n",
        "print(pd.DataFrame(grid.cv_results_).sort_values(by='param_n_neighbors'))\n",
        "#print(pd.DataFrame(grid.cv_results_).sort_values(by='param_n_neighbors', ascending=0))\n",
        "print(grid.best_score_)\n",
        "print(grid.best_params_)\n",
        "#'''\n",
        "'''\n",
        "param_grid = {'n_neighbors':[5,1,2,3,4], 'metric':['minkowski','manhattan','euclidean'], 'weights':['uniform','distance']}\n",
        "\n",
        "grid = GridSearchCV(estimator, param_grid=param_grid) \n",
        "\n",
        "grid.fit(x_train, y_train)\n",
        "\n",
        "print(pd.DataFrame(grid.cv_results_).sort_values(by='rank_test_score'))\n",
        "print(grid.best_score_)\n",
        "print(grid.best_params_)\n",
        "'''\n",
        "\n",
        "####################\n",
        "\n",
        "#'''\n",
        "estimator = grid.best_estimator_\n",
        "#'''\n",
        "'''\n",
        "#estimator = KNeighborsRegressor(**grid.best_params_)\n",
        "estimator = KNeighborsRegressor()\n",
        "estimator.set_params(**grid.best_params_)\n",
        "\n",
        "estimator.fit(x_train, y_train)\n",
        "'''\n",
        "\n",
        "y_predict = estimator.predict(x_test) \n",
        "score = metrics.r2_score(y_test, y_predict)\n",
        "#score = estimator.score(x_test, y_test)\n",
        "#score = grid.score(x_test, y_test)\n",
        "print(score) #1.0\n",
        "\n",
        "print(x_test[:2])\n",
        "'''\n",
        "[[0.31062919 0.76910373]\n",
        " [0.41938502 0.65613916]]\n",
        "'''\n",
        "y_predict = estimator.predict(x_test[:2])\n",
        "print(y_predict) #[1.00350829 1.00350829]\n",
        "for y1, y2 in zip(y_test, y_predict):\n",
        "    print(y1, y2)\n",
        "'''\n",
        "1.079732927822041 1.0035082883285351\n",
        "1.0755241796602246 1.0035082883285351\n",
        "'''"
      ],
      "execution_count": 12,
      "outputs": [
        {
          "output_type": "stream",
          "text": [
            "   mean_fit_time  std_fit_time  ...  std_test_score  rank_test_score\n",
            "0       0.000622      0.000045  ...        0.521293                1\n",
            "\n",
            "[1 rows x 14 columns]\n",
            "-0.3805458677224257\n",
            "{'n_neighbors': 3}\n",
            "0.7868514704495158\n",
            "[[6.3200e-03 1.8000e+01 2.3100e+00 0.0000e+00 5.3800e-01 6.5750e+00\n",
            "  6.5200e+01 4.0900e+00 1.0000e+00 2.9600e+02 1.5300e+01 3.9690e+02\n",
            "  4.9800e+00]\n",
            " [2.7310e-02 0.0000e+00 7.0700e+00 0.0000e+00 4.6900e-01 6.4210e+00\n",
            "  7.8900e+01 4.9671e+00 2.0000e+00 2.4200e+02 1.7800e+01 3.9690e+02\n",
            "  9.1400e+00]]\n",
            "[22.1 24.3]\n",
            "24.0 22.099999999999998\n",
            "21.6 24.3\n"
          ],
          "name": "stdout"
        },
        {
          "output_type": "execute_result",
          "data": {
            "application/vnd.google.colaboratory.intrinsic+json": {
              "type": "string"
            },
            "text/plain": [
              "'\\n1.079732927822041 1.0035082883285351\\n1.0755241796602246 1.0035082883285351\\n'"
            ]
          },
          "metadata": {
            "tags": []
          },
          "execution_count": 12
        }
      ]
    },
    {
      "cell_type": "code",
      "metadata": {
        "id": "5DxLo4Djr451",
        "colab": {
          "base_uri": "https://localhost:8080/"
        },
        "outputId": "9575c815-fb02-43be-c88a-fb1e746aab74"
      },
      "source": [
        "import numpy as np\n",
        "import pandas as pd\n",
        "from sklearn import datasets\n",
        "#\n",
        "from sklearn import model_selection\n",
        "from sklearn import metrics\n",
        "\n",
        "dataset = datasets.fetch_california_housing()\n",
        "print(dataset.DESCR)"
      ],
      "execution_count": 13,
      "outputs": [
        {
          "output_type": "stream",
          "text": [
            "Downloading Cal. housing from https://ndownloader.figshare.com/files/5976036 to /root/scikit_learn_data\n"
          ],
          "name": "stderr"
        },
        {
          "output_type": "stream",
          "text": [
            ".. _california_housing_dataset:\n",
            "\n",
            "California Housing dataset\n",
            "--------------------------\n",
            "\n",
            "**Data Set Characteristics:**\n",
            "\n",
            "    :Number of Instances: 20640\n",
            "\n",
            "    :Number of Attributes: 8 numeric, predictive attributes and the target\n",
            "\n",
            "    :Attribute Information:\n",
            "        - MedInc        median income in block\n",
            "        - HouseAge      median house age in block\n",
            "        - AveRooms      average number of rooms\n",
            "        - AveBedrms     average number of bedrooms\n",
            "        - Population    block population\n",
            "        - AveOccup      average house occupancy\n",
            "        - Latitude      house block latitude\n",
            "        - Longitude     house block longitude\n",
            "\n",
            "    :Missing Attribute Values: None\n",
            "\n",
            "This dataset was obtained from the StatLib repository.\n",
            "http://lib.stat.cmu.edu/datasets/\n",
            "\n",
            "The target variable is the median house value for California districts.\n",
            "\n",
            "This dataset was derived from the 1990 U.S. census, using one row per census\n",
            "block group. A block group is the smallest geographical unit for which the U.S.\n",
            "Census Bureau publishes sample data (a block group typically has a population\n",
            "of 600 to 3,000 people).\n",
            "\n",
            "It can be downloaded/loaded using the\n",
            ":func:`sklearn.datasets.fetch_california_housing` function.\n",
            "\n",
            ".. topic:: References\n",
            "\n",
            "    - Pace, R. Kelley and Ronald Barry, Sparse Spatial Autoregressions,\n",
            "      Statistics and Probability Letters, 33 (1997) 291-297\n",
            "\n"
          ],
          "name": "stdout"
        }
      ]
    },
    {
      "cell_type": "code",
      "metadata": {
        "id": "bznUWSDsBZmB"
      },
      "source": [
        ""
      ],
      "execution_count": null,
      "outputs": []
    }
  ]
}